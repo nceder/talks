{
 "cells": [
  {
   "cell_type": "markdown",
   "metadata": {
    "slideshow": {
     "slide_type": "slide"
    }
   },
   "source": [
    "\n",
    "# The Truth about Objects\n",
    "\n",
    "### Naomi Ceder\n",
    "**This notebook -  https://github.com/nceder/talks**\n",
    "![Image](qr-code.png)\n"
   ]
  },
  {
   "cell_type": "markdown",
   "metadata": {
    "slideshow": {
     "slide_type": "slide"
    }
   },
   "source": [
    "## In Python \"everything is an object\" \n",
    "### Everything?\n",
    "* A constant?\n",
    "* An instance of a class?\n",
    "* A function?\n",
    "* A module/package?\n"
   ]
  },
  {
   "cell_type": "markdown",
   "metadata": {
    "slideshow": {
     "slide_type": "slide"
    }
   },
   "source": [
    "### Simple types"
   ]
  },
  {
   "cell_type": "code",
   "execution_count": null,
   "metadata": {
    "slideshow": {
     "slide_type": "fragment"
    }
   },
   "outputs": [],
   "source": [
    "print(f\"-1 is instance of object - {isinstance(-1, object)}\\n\"\n",
    "      f\"(-1).__class__ - {(-1).__class__}\")"
   ]
  },
  {
   "cell_type": "markdown",
   "metadata": {
    "slideshow": {
     "slide_type": "slide"
    }
   },
   "source": [
    "### What about functions?"
   ]
  },
  {
   "cell_type": "code",
   "execution_count": null,
   "metadata": {
    "jupyter": {
     "source_hidden": true
    },
    "slideshow": {
     "slide_type": "fragment"
    }
   },
   "outputs": [],
   "source": [
    "def test():\n",
    "    print(\"test\")\n",
    "\n",
    "print(f\"test is instance of object - {isinstance(test, object)}\\n\" \n",
    "      f\"test.__class__ - {test.__class__}\")"
   ]
  },
  {
   "cell_type": "markdown",
   "metadata": {
    "slideshow": {
     "slide_type": "slide"
    }
   },
   "source": [
    "\n",
    "### Modules?"
   ]
  },
  {
   "cell_type": "code",
   "execution_count": null,
   "metadata": {
    "jupyter": {
     "source_hidden": true
    },
    "slideshow": {
     "slide_type": "fragment"
    }
   },
   "outputs": [],
   "source": [
    "import math\n",
    "print(f\"math is instance of object - {isinstance(math, object)}\\n\" \n",
    "      f\"math.__class__ - {math.__class__}\")"
   ]
  },
  {
   "cell_type": "markdown",
   "metadata": {
    "slideshow": {
     "slide_type": "slide"
    }
   },
   "source": [
    "### Other stuff?"
   ]
  },
  {
   "cell_type": "code",
   "execution_count": null,
   "metadata": {
    "slideshow": {
     "slide_type": "fragment"
    }
   },
   "outputs": [],
   "source": [
    "print(f\"None is instance of object - {isinstance(None, object)}\\n\" \n",
    "      f\"None.__class__ - {None.__class__}\")"
   ]
  },
  {
   "cell_type": "code",
   "execution_count": null,
   "metadata": {
    "jupyter": {
     "source_hidden": true
    },
    "slideshow": {
     "slide_type": "fragment"
    }
   },
   "outputs": [],
   "source": [
    "print(f\"... is instance of object - {isinstance(..., object)}\\n\" \n",
    "      f\"....__class__ - {....__class__}\")"
   ]
  },
  {
   "cell_type": "code",
   "execution_count": null,
   "metadata": {
    "jupyter": {
     "source_hidden": true
    },
    "slideshow": {
     "slide_type": "slide"
    }
   },
   "outputs": [],
   "source": [
    "# +-*/%//,.[]: \n",
    "isinstance(-, object)"
   ]
  },
  {
   "cell_type": "code",
   "execution_count": null,
   "metadata": {
    "jupyter": {
     "source_hidden": true
    },
    "scrolled": false,
    "slideshow": {
     "slide_type": "slide"
    }
   },
   "outputs": [],
   "source": [
    "# in not if elif else for while def class...  \n",
    "isinstance(in, object)"
   ]
  },
  {
   "cell_type": "markdown",
   "metadata": {
    "slideshow": {
     "slide_type": "slide"
    }
   },
   "source": [
    "## Looks like *almost* everything else is an object...\n",
    "### and an instance of a class... \n",
    "\n",
    " so... \n",
    "\n",
    "**what about classes?** "
   ]
  },
  {
   "cell_type": "markdown",
   "metadata": {
    "slideshow": {
     "slide_type": "slide"
    }
   },
   "source": [
    "### Sample class"
   ]
  },
  {
   "cell_type": "code",
   "execution_count": null,
   "metadata": {
    "jupyter": {
     "source_hidden": true
    },
    "slideshow": {
     "slide_type": "fragment"
    }
   },
   "outputs": [],
   "source": [
    "class Duck:\n",
    "    pass\n",
    "\n",
    "donald = Duck()\n",
    "print(f\"donald is instance of object - {isinstance(donald, object)}\\n\" \n",
    "      f\"donald.__class__ - {donald.__class__}\")"
   ]
  },
  {
   "cell_type": "code",
   "execution_count": null,
   "metadata": {
    "jupyter": {
     "source_hidden": true
    },
    "slideshow": {
     "slide_type": "fragment"
    }
   },
   "outputs": [],
   "source": [
    "print(f\"Duck is instance of object - {isinstance(Duck, object)}\\n\" \n",
    "      f\"Duck.__class__ (i.e, type(Duck)) - {Duck.__class__}\")"
   ]
  },
  {
   "cell_type": "markdown",
   "metadata": {
    "slideshow": {
     "slide_type": "slide"
    }
   },
   "source": [
    "### `object` and `type`"
   ]
  },
  {
   "cell_type": "code",
   "execution_count": null,
   "metadata": {
    "jupyter": {
     "source_hidden": true
    },
    "slideshow": {
     "slide_type": "fragment"
    }
   },
   "outputs": [],
   "source": [
    "print(f\"type is instance of object - {isinstance(type, object)}\\n\" \n",
    "      f\"type.__class__ - {type.__class__}\")\n"
   ]
  },
  {
   "cell_type": "code",
   "execution_count": null,
   "metadata": {
    "slideshow": {
     "slide_type": "fragment"
    }
   },
   "outputs": [],
   "source": [
    "print(f\"object.__class__ - {object.__class__}\")"
   ]
  },
  {
   "cell_type": "code",
   "execution_count": null,
   "metadata": {
    "jupyter": {
     "source_hidden": true
    },
    "slideshow": {
     "slide_type": "slide"
    }
   },
   "outputs": [],
   "source": [
    "# we saw above that type is an instance of object... \n",
    "\n",
    "print(f\"object is instance of type - {isinstance(object, type)}\")"
   ]
  },
  {
   "cell_type": "code",
   "execution_count": null,
   "metadata": {
    "jupyter": {
     "source_hidden": true
    },
    "slideshow": {
     "slide_type": "slide"
    }
   },
   "outputs": [],
   "source": [
    "object == type"
   ]
  },
  {
   "cell_type": "code",
   "execution_count": null,
   "metadata": {
    "jupyter": {
     "source_hidden": true
    },
    "slideshow": {
     "slide_type": "fragment"
    }
   },
   "outputs": [],
   "source": [
    "print(f\"object is subclass of type - {issubclass(object, type)}\")"
   ]
  },
  {
   "cell_type": "code",
   "execution_count": null,
   "metadata": {
    "jupyter": {
     "source_hidden": true
    },
    "slideshow": {
     "slide_type": "fragment"
    }
   },
   "outputs": [],
   "source": [
    "print(f\"type is subclass of object - {issubclass(type, object)}\")"
   ]
  },
  {
   "cell_type": "markdown",
   "metadata": {
    "slideshow": {
     "slide_type": "slide"
    }
   },
   "source": [
    "### So...in Python, \n",
    "\n",
    "* **everything (almost) is an instance of `object`**, including classes (i.e. `type`) and `object` itself.\n",
    "* **but... `object` is an instance of `type`.** (and class == type) \n",
    "\n",
    "\n",
    "\n",
    "![Image](mc_escher_drawing_hands_1948.jpg)"
   ]
  },
  {
   "cell_type": "markdown",
   "metadata": {
    "slideshow": {
     "slide_type": "slide"
    }
   },
   "source": [
    "## Classes\n",
    "\n",
    "**But how do classes and instances work?**"
   ]
  },
  {
   "cell_type": "markdown",
   "metadata": {
    "jp-MarkdownHeadingCollapsed": true,
    "slideshow": {
     "slide_type": "slide"
    }
   },
   "source": [
    "### What's a class?\n",
    "\n",
    "* an object of type `type`\n",
    "* created with... \n",
    "   * `class` keyword\n",
    "   * class name\n",
    "* Instance methods\n",
    "   * `def` keyword and method name\n",
    "   * parameter reference to instance (self)\n",
    "* Instance data\n",
    "   * data attributes of an instance\n",
    "   * instance referred to as “self” (we could use any legal identifier)"
   ]
  },
  {
   "cell_type": "code",
   "execution_count": null,
   "metadata": {
    "jupyter": {
     "source_hidden": true
    },
    "scrolled": true,
    "slideshow": {
     "slide_type": "slide"
    }
   },
   "outputs": [],
   "source": [
    "class Duck:\n",
    "    def __init__(self, name=\"a duck\"):\n",
    "        self.name = name\n",
    "    \n",
    "    def hello(self):\n",
    "        print(f\"Hello, I'm a {self.__class__.__name__}\" \n",
    "              f\" named {self.name}\")"
   ]
  },
  {
   "cell_type": "code",
   "execution_count": null,
   "metadata": {
    "jupyter": {
     "source_hidden": true
    },
    "scrolled": true,
    "slideshow": {
     "slide_type": "fragment"
    }
   },
   "outputs": [],
   "source": [
    "donald = Duck(\"Donald\")\n",
    "donald.hello()"
   ]
  },
  {
   "cell_type": "code",
   "execution_count": null,
   "metadata": {
    "jupyter": {
     "source_hidden": true
    },
    "scrolled": true,
    "slideshow": {
     "slide_type": "slide"
    }
   },
   "outputs": [],
   "source": [
    "Duck.__dict__"
   ]
  },
  {
   "cell_type": "code",
   "execution_count": null,
   "metadata": {
    "jupyter": {
     "source_hidden": true
    },
    "scrolled": true,
    "slideshow": {
     "slide_type": "fragment"
    }
   },
   "outputs": [],
   "source": [
    "print(donald)\n",
    "donald.__dict__"
   ]
  },
  {
   "cell_type": "markdown",
   "metadata": {
    "jp-MarkdownHeadingCollapsed": true,
    "slideshow": {
     "slide_type": "slide"
    }
   },
   "source": [
    "### The other way to make a class\n",
    "\n",
    "* if we can make an `int` with `int()`, can we make a class (`type`) with `type()`?\n"
   ]
  },
  {
   "cell_type": "code",
   "execution_count": null,
   "metadata": {
    "jupyter": {
     "source_hidden": true
    },
    "slideshow": {
     "slide_type": "slide"
    }
   },
   "outputs": [],
   "source": [
    "def init_funct(self, name):\n",
    "    self.name = name\n",
    "def str_funct(self):\n",
    "    return f\"I am a {self.__class__.__name__} named {self.name}\"\n",
    "\n",
    "namespace = {'__init__': init_funct, \n",
    "             '__str__':str_funct }\n",
    "\n",
    "namespace"
   ]
  },
  {
   "cell_type": "code",
   "execution_count": null,
   "metadata": {
    "jupyter": {
     "source_hidden": true
    },
    "slideshow": {
     "slide_type": "slide"
    }
   },
   "outputs": [],
   "source": [
    "Scratch = type('Scratch', (), namespace)\n",
    "\n",
    "print(Scratch)\n",
    "Scratch.__dict__"
   ]
  },
  {
   "cell_type": "code",
   "execution_count": null,
   "metadata": {
    "jupyter": {
     "source_hidden": true
    },
    "slideshow": {
     "slide_type": "slide"
    }
   },
   "outputs": [],
   "source": [
    "my_scratch = Scratch('my_scratch')\n",
    "print(my_scratch)\n",
    "my_scratch.__dict__"
   ]
  },
  {
   "cell_type": "markdown",
   "metadata": {
    "slideshow": {
     "slide_type": "slide"
    }
   },
   "source": [
    "### Classes can be created using <br><br>`type(<classname>, <bases>, <dict>)`"
   ]
  },
  {
   "cell_type": "markdown",
   "metadata": {
    "jp-MarkdownHeadingCollapsed": true,
    "slideshow": {
     "slide_type": "slide"
    }
   },
   "source": [
    "### More on methods\n",
    "\n",
    "* an instance method is “bound”, i.e. it is called on an instance\n",
    "* `a_class.method(an_instance, param) == an_instance.method(param)`"
   ]
  },
  {
   "cell_type": "code",
   "execution_count": null,
   "metadata": {
    "jupyter": {
     "source_hidden": true
    },
    "slideshow": {
     "slide_type": "slide"
    }
   },
   "outputs": [],
   "source": [
    "class Duck:\n",
    "    def __init__(self, name=\"a duck\"):\n",
    "        self.name = name\n",
    "    def hello(self):\n",
    "        return (f\"I'm a {self.__class__.__name__}\"\n",
    "                f\" named {self.name}\")\n",
    "    def goodbye(self):\n",
    "        return (f\"Goodbye (goodbye method) \"\n",
    "                f\"from {self.name}\")\n",
    "donald = Duck(\"Donald\")\n",
    "print(donald.hello())\n",
    "print(donald.goodbye())"
   ]
  },
  {
   "cell_type": "code",
   "execution_count": null,
   "metadata": {
    "jupyter": {
     "source_hidden": true
    },
    "slideshow": {
     "slide_type": "slide"
    }
   },
   "outputs": [],
   "source": [
    "print(Duck.hello(donald))\n",
    "print(Duck.goodbye(donald))"
   ]
  },
  {
   "cell_type": "code",
   "execution_count": null,
   "metadata": {
    "jupyter": {
     "source_hidden": true
    },
    "slideshow": {
     "slide_type": "slide"
    }
   },
   "outputs": [],
   "source": [
    "# remember 'my_scratch' from above?\n",
    "print(Duck.hello(my_scratch))\n",
    "print(Duck.goodbye(my_scratch))"
   ]
  },
  {
   "cell_type": "markdown",
   "metadata": {
    "jp-MarkdownHeadingCollapsed": true,
    "slideshow": {
     "slide_type": "slide"
    }
   },
   "source": [
    "### What about changing Duck?\n",
    "\n"
   ]
  },
  {
   "cell_type": "code",
   "execution_count": null,
   "metadata": {
    "jupyter": {
     "source_hidden": true
    },
    "slideshow": {
     "slide_type": "slide"
    }
   },
   "outputs": [],
   "source": [
    "class Duck:\n",
    "    def __init__(self, name=\"a duck\"):\n",
    "        self.name = name\n",
    "    def hello(self):\n",
    "        return (f\"I'm a {self.__class__.__name__}\"\n",
    "                f\" named {self.name}\")\n",
    "    def goodbye(self):\n",
    "        return (f\"Goodbye (goodbye method) \"\n",
    "                f\"from {self.name}\")\n",
    "    \n",
    "def farewell(thing):\n",
    "    return (f\"Farewell (farewell function) from \"\n",
    "            f\"{thing.name}\")"
   ]
  },
  {
   "cell_type": "code",
   "execution_count": null,
   "metadata": {
    "jupyter": {
     "source_hidden": true
    },
    "slideshow": {
     "slide_type": "slide"
    }
   },
   "outputs": [],
   "source": [
    "donald = Duck(\"Donald\")\n",
    "\n",
    "print(donald.goodbye())\n",
    "\n",
    "print(farewell(donald))"
   ]
  },
  {
   "cell_type": "code",
   "execution_count": null,
   "metadata": {
    "jupyter": {
     "source_hidden": true
    },
    "slideshow": {
     "slide_type": "slide"
    }
   },
   "outputs": [],
   "source": [
    "old_goodbye = Duck.goodbye\n",
    "\n",
    "Duck.goodbye = farewell\n",
    "\n",
    "daisy = Duck(\"Daisy\")\n",
    "\n",
    "print(daisy.goodbye())"
   ]
  },
  {
   "cell_type": "code",
   "execution_count": null,
   "metadata": {
    "jupyter": {
     "source_hidden": true
    },
    "slideshow": {
     "slide_type": "fragment"
    }
   },
   "outputs": [],
   "source": [
    "print(donald.goodbye())"
   ]
  },
  {
   "cell_type": "code",
   "execution_count": null,
   "metadata": {
    "jupyter": {
     "source_hidden": true
    },
    "slideshow": {
     "slide_type": "slide"
    }
   },
   "outputs": [],
   "source": [
    "del Duck.goodbye\n",
    "\n",
    "daisy.goodbye()"
   ]
  },
  {
   "cell_type": "code",
   "execution_count": null,
   "metadata": {
    "jupyter": {
     "source_hidden": true
    },
    "slideshow": {
     "slide_type": "slide"
    }
   },
   "outputs": [],
   "source": [
    "Duck.goodbye = old_goodbye\n",
    "\n",
    "daisy.goodbye()"
   ]
  },
  {
   "cell_type": "markdown",
   "metadata": {
    "slideshow": {
     "slide_type": "slide"
    }
   },
   "source": [
    "### Bound methods \n",
    "* are in the class, not the instance\n",
    "* the class is an object that can be changed\n",
    "\n",
    "#### Changing the class on the fly is \"monkey patching\" \n",
    "* It can make things complicated, if not impossible, to debug\n",
    "* so **don't try this at home!**<br>\n",
    "* *(or do, I won't stop you, but be warned... here be dragons...)*\n"
   ]
  },
  {
   "cell_type": "markdown",
   "metadata": {
    "slideshow": {
     "slide_type": "slide"
    }
   },
   "source": [
    "## Metaclasses\n",
    "\n",
    "* In Python everything is an object, even classes (types)\n",
    "* Suppose we inherited from `type` and changed a few things?\n",
    "* We could define classes that behave differently\n",
    "* e.g. classes that automatically register themselves when instantiated\n"
   ]
  },
  {
   "cell_type": "markdown",
   "metadata": {
    "jp-MarkdownHeadingCollapsed": true,
    "slideshow": {
     "slide_type": "slide"
    }
   },
   "source": [
    "### Metaclass that makes only singleton classes\n",
    "\n",
    "We could create a new *type* of class that **only** creates singleton classes... \n",
    "\n",
    "* inherit from `type`\n",
    "* overload `__call__` method to \n",
    "   * check for existing instance \n",
    "   * before creating/saving new instance\n",
    "   * return saved instance"
   ]
  },
  {
   "cell_type": "code",
   "execution_count": null,
   "metadata": {
    "jupyter": {
     "source_hidden": true
    },
    "slideshow": {
     "slide_type": "slide"
    }
   },
   "outputs": [],
   "source": [
    "class ClassSngl(type):\n",
    "    def __call__(cls, *args, **kwds):\n",
    "        if not hasattr(cls, \"instance\"):\n",
    "            print(f\"Calling {cls.__name__}() \"\n",
    "                  \"to create instance\")\n",
    "            cls.instance = type.__call__(cls, \n",
    "                        *args, **kwds)\n",
    "        print(\"returning instance\")\n",
    "        return cls.instance\n",
    "    \n",
    "type(ClassSngl)"
   ]
  },
  {
   "cell_type": "code",
   "execution_count": null,
   "metadata": {
    "jupyter": {
     "source_hidden": true
    },
    "slideshow": {
     "slide_type": "fragment"
    }
   },
   "outputs": [],
   "source": [
    "class Sngltn(metaclass=ClassSngl):\n",
    "    def __init__(self, *args, **kwds):\n",
    "        print(f\"Initializing new instance of {self.__class__.__name__} \")\n",
    "        \n",
    "Sngltn.__class__"
   ]
  },
  {
   "cell_type": "code",
   "execution_count": null,
   "metadata": {
    "jupyter": {
     "source_hidden": true
    },
    "slideshow": {
     "slide_type": "slide"
    }
   },
   "outputs": [],
   "source": [
    "single_1 = Sngltn()"
   ]
  },
  {
   "cell_type": "code",
   "execution_count": null,
   "metadata": {
    "jupyter": {
     "source_hidden": true
    },
    "slideshow": {
     "slide_type": "fragment"
    }
   },
   "outputs": [],
   "source": [
    "single_2 = Sngltn()"
   ]
  },
  {
   "cell_type": "code",
   "execution_count": null,
   "metadata": {
    "jupyter": {
     "source_hidden": true
    },
    "slideshow": {
     "slide_type": "fragment"
    }
   },
   "outputs": [],
   "source": [
    "print(id(single_1))\n",
    "print(id(single_2))"
   ]
  },
  {
   "cell_type": "code",
   "execution_count": null,
   "metadata": {
    "jupyter": {
     "source_hidden": true
    },
    "slideshow": {
     "slide_type": "slide"
    }
   },
   "outputs": [],
   "source": [
    "class AltSngltn(metaclass=ClassSngl):\n",
    "    def __init__(self, *args, **kwds):\n",
    "        print(f\"Initializing new instance of {self.__class__.__name__} \")"
   ]
  },
  {
   "cell_type": "code",
   "execution_count": null,
   "metadata": {
    "jupyter": {
     "source_hidden": true
    },
    "scrolled": true,
    "slideshow": {
     "slide_type": "fragment"
    }
   },
   "outputs": [],
   "source": [
    "alt_single_1 = AltSngltn()\n",
    "alt_single_2 = AltSngltn()\n",
    "print(f\"{id(alt_single_1)=}\\n{id(alt_single_1)=}\")"
   ]
  },
  {
   "cell_type": "markdown",
   "metadata": {
    "slideshow": {
     "slide_type": "slide"
    }
   },
   "source": [
    "### Metaclasses can change how classes behave\n",
    "\n",
    "Again, **not** recomended, other than for experimentation...\n",
    "\n",
    "Metaclasses in production - if you don't know you really need them, you probably don't need them. "
   ]
  },
  {
   "cell_type": "markdown",
   "metadata": {
    "slideshow": {
     "slide_type": "slide"
    }
   },
   "source": [
    "## Conclusions\n",
    "\n",
    "* Everything (almost) is an object\n",
    "* Classes are objects, too\n",
    "* Classes can be altered dynamically\n",
    "* Metaclasses can change how classes behave"
   ]
  },
  {
   "cell_type": "markdown",
   "metadata": {
    "slideshow": {
     "slide_type": "slide"
    }
   },
   "source": [
    "### Questions?\n",
    "\n",
    "\n",
    "**This notebook - https://github.com/nceder/talks**\n",
    "\n",
    "![Image](qr-code.png)<br><br><br><br><br><br><br>"
   ]
  },
  {
   "cell_type": "code",
   "execution_count": null,
   "metadata": {
    "jupyter": {
     "source_hidden": true
    },
    "slideshow": {
     "slide_type": "skip"
    }
   },
   "outputs": [],
   "source": []
  },
  {
   "cell_type": "code",
   "execution_count": null,
   "metadata": {
    "jupyter": {
     "source_hidden": true
    },
    "slideshow": {
     "slide_type": "skip"
    }
   },
   "outputs": [],
   "source": []
  },
  {
   "cell_type": "code",
   "execution_count": null,
   "metadata": {
    "jupyter": {
     "source_hidden": true
    },
    "slideshow": {
     "slide_type": "skip"
    }
   },
   "outputs": [],
   "source": []
  },
  {
   "cell_type": "code",
   "execution_count": null,
   "metadata": {
    "jupyter": {
     "source_hidden": true
    },
    "slideshow": {
     "slide_type": "skip"
    }
   },
   "outputs": [],
   "source": []
  },
  {
   "cell_type": "markdown",
   "metadata": {
    "jupyter": {
     "source_hidden": true
    },
    "slideshow": {
     "slide_type": "skip"
    }
   },
   "source": [
    "### Bonus: A metaclass that will create only one class\n",
    "\n",
    "**A type singleton?**"
   ]
  },
  {
   "cell_type": "code",
   "execution_count": null,
   "metadata": {
    "jupyter": {
     "source_hidden": true
    },
    "slideshow": {
     "slide_type": "skip"
    }
   },
   "outputs": [],
   "source": [
    "class SnglClass(type):\n",
    "    def __new__(meta, name, bases, dct):\n",
    "        print(f\"Calling {meta.__new__}() to create class\")\n",
    "        if not hasattr(meta, \"class_\"):\n",
    "            print(\"creaing new class\")\n",
    "            meta.class_ = type.__new__(meta, name, bases, dct)\n",
    "        print(\"returning class\")\n",
    "        return meta.class_"
   ]
  },
  {
   "cell_type": "code",
   "execution_count": null,
   "metadata": {
    "jupyter": {
     "source_hidden": true
    },
    "scrolled": true,
    "slideshow": {
     "slide_type": "skip"
    }
   },
   "outputs": [],
   "source": [
    "class test(metaclass=SnglClass):\n",
    "    pass\n",
    "\n",
    "class test2(metaclass=SnglClass):\n",
    "    pass"
   ]
  },
  {
   "cell_type": "code",
   "execution_count": null,
   "metadata": {
    "jupyter": {
     "source_hidden": true
    },
    "slideshow": {
     "slide_type": "skip"
    }
   },
   "outputs": [],
   "source": [
    "test2"
   ]
  },
  {
   "cell_type": "markdown",
   "metadata": {
    "jp-MarkdownHeadingCollapsed": true,
    "slideshow": {
     "slide_type": "skip"
    }
   },
   "source": [
    "## Abstract and outline"
   ]
  },
  {
   "cell_type": "markdown",
   "metadata": {
    "slideshow": {
     "slide_type": "skip"
    }
   },
   "source": [
    "\"Everything in Python is an object.\" This is a profound truth about Python, but what does it mean? Is literally EVERYTHING an object? And what is an object anyway? Are objects the same as instances of a class? How do classes and types really work in Python? And what do metaclasses have to do with anything?\n",
    "\n",
    "In fact, the answers to these questions are probably not what you think they are - Python's approach to objects is different from most other languages in sometimes surprising ways. \n",
    "\n",
    "This talk will use simple live coded examples to explore how objects work in Python and clear up several common misconceptions and misunderstandings about how objects and instances, classes and types, and metaclasses all work together. \n",
    "\n",
    "Be warned - you are likely to be surprised when you learn the truth about objects in Python."
   ]
  },
  {
   "cell_type": "markdown",
   "metadata": {
    "slideshow": {
     "slide_type": "skip"
    }
   },
   "source": [
    "1. Introduction - 3 min\n",
    "2. Is everything really  an object? - 5 min\n",
    "3. class = type - 5 min\n",
    "    1. What is the type of a class?\n",
    "    2. Constructing a class using type()\n",
    "5. What is an instance? - 5 min\n",
    "     1. How is an instance connected to a class?\n",
    "     2. Bound methods and monkeypatching\n",
    "6. Type vs. metaclass - 5 min\n",
    "     1. Changing how a class is made/behaves\n",
    "7. Conclusion/Questions - 5 min"
   ]
  },
  {
   "cell_type": "code",
   "execution_count": null,
   "metadata": {
    "jupyter": {
     "source_hidden": true
    },
    "slideshow": {
     "slide_type": "skip"
    }
   },
   "outputs": [],
   "source": []
  }
 ],
 "metadata": {
  "celltoolbar": "Slideshow",
  "kernelspec": {
   "display_name": "Python 3 (ipykernel)",
   "language": "python",
   "name": "python3"
  },
  "language_info": {
   "codemirror_mode": {
    "name": "ipython",
    "version": 3
   },
   "file_extension": ".py",
   "mimetype": "text/x-python",
   "name": "python",
   "nbconvert_exporter": "python",
   "pygments_lexer": "ipython3",
   "version": "3.12.0"
  },
  "livereveal": {
   "scroll": true,
   "start_slideshow_at": "selected",
   "theme": "white",
   "transition": "none"
  },
  "nbTranslate": {
   "displayLangs": [
    "sp",
    "en"
   ],
   "hotkey": "alt-t",
   "langInMainMenu": true,
   "sourceLang": "en",
   "targetLang": "sp",
   "useGoogleTranslate": true
  },
  "toc": {
   "base_numbering": 1,
   "nav_menu": {},
   "number_sections": false,
   "sideBar": true,
   "skip_h1_title": false,
   "title_cell": "Table of Contents",
   "title_sidebar": "Contents",
   "toc_cell": false,
   "toc_position": {
    "height": "calc(100% - 180px)",
    "left": "10px",
    "top": "150px",
    "width": "384px"
   },
   "toc_section_display": "block",
   "toc_window_display": false
  }
 },
 "nbformat": 4,
 "nbformat_minor": 4
}
