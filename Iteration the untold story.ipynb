{
 "cells": [
  {
   "cell_type": "markdown",
   "metadata": {
    "slideshow": {
     "slide_type": "slide"
    }
   },
   "source": [
    "# Iteration: the untold story\n",
    "\n",
    "## Inside Python's Iteration Protocol\n",
    "\n",
    "### Naomi Ceder\n",
    "#### 2021-06-23 \n",
    "\n",
    "#### Former chair, Python Software foundation\n",
    "\n",
    "#### https://naomiceder.tech, @naomiceder**"
   ]
  },
  {
   "cell_type": "markdown",
   "metadata": {
    "slideshow": {
     "slide_type": "skip"
    }
   },
   "source": [
    "### Iteration, the untold story\n",
    "\n",
    "Description: How the iteration protocol works in Python\n",
    "\n",
    "Topics:\n",
    "* Intro/What makes iteration special in Python\n",
    "* The iteration protocol\n",
    "   * iterables - create a functioning iterable class (live coding)\n",
    "   * iterators - create a functioning iterator class\n",
    "   * generators - create a iterator with a generator function\n",
    "* Conclusions & Questions\n",
    "\n",
    "Level: This should be understandable for Python beginners and interesting for more advanced Pythonistas."
   ]
  },
  {
   "cell_type": "markdown",
   "metadata": {
    "slideshow": {
     "slide_type": "slide"
    }
   },
   "source": [
    "## Before we start \n",
    "\n",
    "This notebook can (will) be found at https://github.com/nceder/talks\n",
    "\n",
    "*The Quick Python Book*, 3rd ed - http://bit.ly/quick-python (variables project is free)\n",
    "\n",
    "*Exploring Python Fundamentals*, Manning liveproject - https://www.manning.com/bundles/exploring-python-fundamentals-pt1-ser\n"
   ]
  },
  {
   "cell_type": "markdown",
   "metadata": {
    "slideshow": {
     "slide_type": "slide"
    }
   },
   "source": [
    "## Iteration = repetition with code and data"
   ]
  },
  {
   "cell_type": "markdown",
   "metadata": {
    "slideshow": {
     "slide_type": "slide"
    }
   },
   "source": [
    "## Iteration protocol\n",
    "\n",
    "### “Python’s most powerful useful feature”\n",
    "\n",
    "-- Dave Beazley, \"[Iterations of Evolution: The Unauthorized Biography of the For-Loop](https://www.youtube.com/watch?v=2AXuhgid7E4)\""
   ]
  },
  {
   "cell_type": "code",
   "execution_count": null,
   "metadata": {
    "slideshow": {
     "slide_type": "slide"
    }
   },
   "outputs": [],
   "source": [
    "# for loop (Python style)\n",
    "a_list = [1, 2, 3, 4]\n",
    "\n",
    "for item in a_list:\n",
    "    print(item)"
   ]
  },
  {
   "cell_type": "markdown",
   "metadata": {
    "slideshow": {
     "slide_type": "slide"
    }
   },
   "source": [
    "## Obvious, right?\n",
    "\n",
    "It wasn't always so obvious..."
   ]
  },
  {
   "cell_type": "markdown",
   "metadata": {
    "slideshow": {
     "slide_type": "slide"
    }
   },
   "source": [
    "## It *used* to be surprising\n",
    "\n",
    "### Python and `for` loops\n",
    "\n",
    "The `for` statement in Python differs a bit \n",
    "from what you may be\n",
    "used to in C or Pascal.  Rather than always iterating over an\n",
    "arithmetic progression of numbers (like in Pascal), or leaving the user\n",
    "completely free in the iteration test and step (as C), Python's for \n",
    "statement iterates over the items of any sequence (e.g., a list\n",
    "or a string), in the order that they appear in the sequence.\n",
    "\n",
    "-- Python V 1.1 Docs, 1994"
   ]
  },
  {
   "cell_type": "markdown",
   "metadata": {
    "slideshow": {
     "slide_type": "slide"
    }
   },
   "source": [
    "### And it works the same for different types\n",
    "* `for key in a_dictionary:`\n",
    "* `for char in a_string:`\n",
    "* `for record in query_results:`\n",
    "* `for line in a_file:`\n",
    "\n",
    "etc..."
   ]
  },
  {
   "cell_type": "markdown",
   "metadata": {
    "slideshow": {
     "slide_type": "slide"
    }
   },
   "source": [
    "## How does that work?\n",
    "\n",
    "* **How does a `for` loop know the “next” item?**\n",
    "* **How can `for` loops use so many different types?**\n",
    "* **What makes an object “work” in a `for` loop?**"
   ]
  },
  {
   "cell_type": "markdown",
   "metadata": {
    "slideshow": {
     "slide_type": "slide"
    }
   },
   "source": [
    "## Iteration protocol\n",
    "\n",
    "* iteration in Python relies on a **protocol**, not types (from Python 2.2)\n",
    "* It's a good example of Python's “duck typing” - anything that follows the protocol can be iterated over"
   ]
  },
  {
   "cell_type": "markdown",
   "metadata": {
    "slideshow": {
     "slide_type": "slide"
    }
   },
   "source": [
    "### Iteration Protocol: \n",
    "* for iteration you need an **iterable** object\n",
    "* and an **iterator** (which Python usually handles for you)"
   ]
  },
  {
   "cell_type": "markdown",
   "metadata": {
    "slideshow": {
     "slide_type": "slide"
    }
   },
   "source": [
    "## iterable\n",
    "\n",
    "An object capable of returning its members **one at a time.** Examples of iterables include **all sequence types** (such as `list`, `str`, and `tuple`) and **some non-sequence types** like `dict`, file objects, and objects of any **classes you define** with an **`__iter__()`** method or with a **`__getitem__()`** method that implements Sequence semantics."
   ]
  },
  {
   "cell_type": "markdown",
   "metadata": {
    "slideshow": {
     "slide_type": "slide"
    }
   },
   "source": [
    "Iterables can be used in a `for` loop and in many other places where a sequence is needed (`zip()`, `map()`, …). When an iterable object is passed as an argument to the built-in function `iter()`, it returns an **iterator** for the object. This iterator is good for **one pass** over the set of values. When using iterables, it is usually **not necessary to call `iter()`** or deal with iterator objects yourself. The `for` statement **does that automatically for you,** creating a **temporary unnamed variable** to hold the iterator for the duration of the loop. *See also iterator, sequence, and generator.*\n",
    "\n",
    "--Python glossary"
   ]
  },
  {
   "cell_type": "markdown",
   "metadata": {
    "slideshow": {
     "slide_type": "slide"
    }
   },
   "source": [
    "## Iterable\n",
    "* returns members one at a time\n",
    "* e.g, `list`, `str`, `tuple` (sequence types)\n",
    "* any class with `__iter__()` method that returns iterator\n",
    "* **or** any class with `__getitem__()` with sequence semantics\n",
    "* `for` statement creates an unnamed iterator from iterable automatically"
   ]
  },
  {
   "cell_type": "markdown",
   "metadata": {
    "slideshow": {
     "slide_type": "slide"
    }
   },
   "source": [
    "### An iterable...\n",
    "\n",
    "must return an iterator when the `iter()` function is called on it.\n",
    "\n",
    "#### There are 2 ways an object can return a iterator - it can\n",
    "* have a **`__getitem__()`** method with Sequence semantics - i.e., access items by integer index in [ ].\n",
    "* implement an **`__iter__()`** method that returns an iterator (more on this soon)\n"
   ]
  },
  {
   "cell_type": "markdown",
   "metadata": {
    "slideshow": {
     "slide_type": "slide"
    }
   },
   "source": [
    "### Is it an iterable?\n",
    "* Does it have an `__iter__()` method?"
   ]
  },
  {
   "cell_type": "code",
   "execution_count": null,
   "metadata": {
    "slideshow": {
     "slide_type": "slide"
    }
   },
   "outputs": [],
   "source": [
    "# check with hasattr\n",
    "a_list = [1, 2, 3, 4]\n",
    "\n",
    "hasattr(a_list, \"__iter__\")"
   ]
  },
  {
   "cell_type": "markdown",
   "metadata": {
    "slideshow": {
     "slide_type": "slide"
    }
   },
   "source": [
    "* Does it have `__getitem__()` that is sequence compliant? (harder to decide)"
   ]
  },
  {
   "cell_type": "markdown",
   "metadata": {
    "slideshow": {
     "slide_type": "slide"
    }
   },
   "source": [
    "## Let’s make an iterable -  `Repeater`\n",
    "\n",
    "A object that can be iterated over and returns the same value for the specified number of times.\n",
    "\n",
    "We'll implement it using `__getitem__()`\n",
    "\n",
    "```\n",
    "repeat = Repeater(\"hello\", 4)\n",
    "\n",
    "for i in repeat:\n",
    "    print(i)\n",
    "\n",
    "hello\n",
    "hello\n",
    "hello\n",
    "hello\n",
    "```"
   ]
  },
  {
   "cell_type": "code",
   "execution_count": null,
   "metadata": {
    "slideshow": {
     "slide_type": "slide"
    }
   },
   "outputs": [],
   "source": [
    "class Repeater:\n",
    "    def __init__(self, value, limit):\n",
    "        self.value = value\n",
    "        self.limit = limit\n",
    "        \n",
    "    def __getitem__(self, index):\n",
    "        if 0 <= index < self.limit:\n",
    "            return self.value\n",
    "        else:\n",
    "            raise IndexError\n",
    "        \n",
    "        "
   ]
  },
  {
   "cell_type": "code",
   "execution_count": null,
   "metadata": {
    "slideshow": {
     "slide_type": "slide"
    }
   },
   "outputs": [],
   "source": [
    "repeat = Repeater(\"hello\", 4)\n",
    "\n",
    "# does it have an __iter__ method?\n",
    "hasattr(repeat, \"__iter__\")"
   ]
  },
  {
   "cell_type": "code",
   "execution_count": null,
   "metadata": {
    "slideshow": {
     "slide_type": "slide"
    }
   },
   "outputs": [],
   "source": [
    "# __getitem__ with sequence semantics?\n",
    "\n",
    "repeat[0]"
   ]
  },
  {
   "cell_type": "code",
   "execution_count": null,
   "metadata": {
    "slideshow": {
     "slide_type": "slide"
    }
   },
   "outputs": [],
   "source": [
    "# can the iter() function return an iterator?\n",
    "\n",
    "iter(repeat)"
   ]
  },
  {
   "cell_type": "code",
   "execution_count": null,
   "metadata": {
    "slideshow": {
     "slide_type": "slide"
    }
   },
   "outputs": [],
   "source": [
    "# for loop\n",
    "\n",
    "for item in repeat:\n",
    "    print(item)"
   ]
  },
  {
   "cell_type": "markdown",
   "metadata": {
    "slideshow": {
     "slide_type": "slide"
    }
   },
   "source": [
    "### Behind the scenes\n",
    "\n",
    "* an iterator is being created from the `repeat` object\n",
    "* it can return the items using integer indexes starting from 0\n",
    "* it continues until an IndexError is thrown\n",
    "* each time it is iterated on a new iterator is created and it starts from the beginning"
   ]
  },
  {
   "cell_type": "code",
   "execution_count": null,
   "metadata": {
    "slideshow": {
     "slide_type": "slide"
    }
   },
   "outputs": [],
   "source": [
    "# list comprehension\n",
    "\n",
    "[x for x in repeat]"
   ]
  },
  {
   "cell_type": "code",
   "execution_count": null,
   "metadata": {
    "slideshow": {
     "slide_type": "slide"
    }
   },
   "outputs": [],
   "source": [
    "class Repeater:\n",
    "    def __init__(self, value, limit):\n",
    "        self.value = value\n",
    "        self.limit = limit\n",
    "        \n",
    "    def __getitem__(self, index):   # The bit we need for an iterable\n",
    "        if 0 <= index < self.limit:\n",
    "            return self.value\n",
    "        else:\n",
    "            raise IndexError # only needed if we want iteration to end"
   ]
  },
  {
   "cell_type": "markdown",
   "metadata": {
    "slideshow": {
     "slide_type": "slide"
    }
   },
   "source": [
    "### Yes, it's really that simple...\n",
    "\n",
    "* ONLY the `__getitem__()` method was needed\n",
    "* an IndexError is needed to end iteration\n"
   ]
  },
  {
   "cell_type": "markdown",
   "metadata": {
    "slideshow": {
     "slide_type": "slide"
    }
   },
   "source": [
    "## But... what's an *Iterator*?\n",
    "\n",
    "The Python `for` loop relies on being able to get a **next** item, but...\n",
    "\n",
    "* the **iterable** doesn't know which item is next\n",
    "* **the loop itself doesn't care** exactly where in the series that item is (or what type it is)\n",
    "* the loop relies on the **iterator** to keep track of what's next\n",
    "* any object that can do that can be iterated over, i.e., it is an **iterator**\n",
    "\n",
    "\n",
    "An **iterator** has a `__next__()` method (in Python 2 `next()`) that tracks and returns the next item in the series, and you use the `next()` function to return the next item for iteration."
   ]
  },
  {
   "cell_type": "markdown",
   "metadata": {
    "slideshow": {
     "slide_type": "slide"
    }
   },
   "source": [
    "### iterator\n",
    "\n",
    "An object representing **a stream of data**. Repeated **calls to the iterator’s `__next__()`** method (or passing it to the built-in function `next()`) **return successive items** in the stream. When **no more data are available a StopIteration exception is raised** instead. At this point, the iterator object is exhausted and any further calls to its `__next__()` method just raise StopIteration again... "
   ]
  },
  {
   "cell_type": "markdown",
   "metadata": {
    "slideshow": {
     "slide_type": "slide"
    }
   },
   "source": [
    "..Iterators are required to have an `__iter__()` method that returns the iterator object itself so **every iterator is also iterable** and may be used in most places where other iterables are accepted. One notable exception is code which attempts multiple iteration passes. **A container object (such as a list) produces a fresh new iterator each time** you pass it to the `iter()` function or use it in a for loop. Attempting this **with an iterator will just return the same exhausted iterator object** used in the previous iteration pass, making it appear like an empty container.\n",
    "\n",
    "--Python glossary"
   ]
  },
  {
   "cell_type": "markdown",
   "metadata": {
    "slideshow": {
     "slide_type": "slide"
    }
   },
   "source": [
    "### Iterator\n",
    "* has `__next__()` method\n",
    "* calls to `__next__()` method (`next()` function) return successive items\n",
    "* raises `StopIteration` when no more data\n",
    "* further calls just raise `StopIteration`\n",
    "* must have `__iter__()` method, which returns self\n",
    "* iterators are therefore iterables\n",
    "* once exhausted they do not “refresh”"
   ]
  },
  {
   "cell_type": "markdown",
   "metadata": {
    "slideshow": {
     "slide_type": "slide"
    }
   },
   "source": [
    "### Let’s make a iterator - `RepeatIterator`\n",
    "\n",
    "* implement `__next__()` method to return next item\n",
    "* implement `__iter__()` method to return itself"
   ]
  },
  {
   "cell_type": "code",
   "execution_count": null,
   "metadata": {
    "slideshow": {
     "slide_type": "slide"
    }
   },
   "outputs": [],
   "source": [
    "class RepeatIterator:\n",
    "    def __init__(self, value, limit):\n",
    "        self.value = value\n",
    "        self.limit = limit\n",
    "        self.count = 0\n",
    "        \n",
    "    def __next__(self):\n",
    "        if self.count < self.limit:\n",
    "            self.count += 1\n",
    "            return self.value\n",
    "        else:\n",
    "            raise StopIteration\n",
    "            \n",
    "    def __iter__(self):\n",
    "        return self"
   ]
  },
  {
   "cell_type": "code",
   "execution_count": null,
   "metadata": {
    "slideshow": {
     "slide_type": "slide"
    }
   },
   "outputs": [],
   "source": [
    "repeat_iter = RepeatIterator(\"Hi\", 4)\n",
    "\n",
    "# __getitem__ with sequence semantics?\n",
    "repeat_iter[0]"
   ]
  },
  {
   "cell_type": "code",
   "execution_count": null,
   "metadata": {
    "slideshow": {
     "slide_type": "slide"
    }
   },
   "outputs": [],
   "source": [
    " repeat_iter = RepeatIterator(\"Hi\", 4) \n",
    "# does it have an __iter__ method?\n",
    " hasattr(repeat_iter, \"__iter__\")"
   ]
  },
  {
   "cell_type": "code",
   "execution_count": null,
   "metadata": {
    "slideshow": {
     "slide_type": "slide"
    }
   },
   "outputs": [],
   "source": [
    "# does it return next item using next() function?\n",
    "\n",
    "next(repeat_iter)"
   ]
  },
  {
   "cell_type": "code",
   "execution_count": null,
   "metadata": {
    "slideshow": {
     "slide_type": "slide"
    }
   },
   "outputs": [],
   "source": [
    "# calling iter on it, returns object itself\n",
    "print(repeat_iter)\n",
    "\n",
    "repeat_iter_iter = iter(repeat_iter)\n",
    "print(repeat_iter_iter)"
   ]
  },
  {
   "cell_type": "code",
   "execution_count": null,
   "metadata": {
    "slideshow": {
     "slide_type": "slide"
    }
   },
   "outputs": [],
   "source": [
    "# calling iter() on iterable always returns new iterator\n",
    "print(repeat)\n",
    "old_repeat_iter = iter(repeat)\n",
    "print(old_repeat_iter)"
   ]
  },
  {
   "cell_type": "code",
   "execution_count": null,
   "metadata": {
    "slideshow": {
     "slide_type": "slide"
    }
   },
   "outputs": [],
   "source": [
    "# after 1 next(), how many repetitions left?\n",
    "\n",
    "\n",
    "for item in repeat_iter:\n",
    "    print(item) \n"
   ]
  },
  {
   "cell_type": "markdown",
   "metadata": {
    "slideshow": {
     "slide_type": "slide"
    }
   },
   "source": [
    "### So making an iterator is pretty easy, too...“\n",
    "* `__next__()` method \n",
    "* `__iter__()` method that returns self\n",
    "* “exhaustion” after one pass"
   ]
  },
  {
   "cell_type": "code",
   "execution_count": null,
   "metadata": {
    "slideshow": {
     "slide_type": "slide"
    }
   },
   "outputs": [],
   "source": [
    "# Let's loop again\n",
    "\n",
    "for item in repeat_iter:\n",
    "    print(item)\n"
   ]
  },
  {
   "cell_type": "code",
   "execution_count": null,
   "metadata": {
    "slideshow": {
     "slide_type": "slide"
    }
   },
   "outputs": [],
   "source": [
    "# one more next?\n",
    "next(repeat_iter) \n"
   ]
  },
  {
   "cell_type": "markdown",
   "metadata": {},
   "source": [
    "### Behind the scenes\n",
    "* `for` called `iter()` on repeat_iter, which returned itself (to anonymous var)\n",
    "* `for` called `next()` on iterator to get values for loop\n",
    "* `for` caught `StopIteration` and stopped iterating"
   ]
  },
  {
   "cell_type": "markdown",
   "metadata": {
    "slideshow": {
     "slide_type": "slide"
    }
   },
   "source": [
    "### (but you probably want to use a generator instead)"
   ]
  },
  {
   "cell_type": "markdown",
   "metadata": {
    "slideshow": {
     "slide_type": "slide"
    }
   },
   "source": [
    "## generator functions\n",
    "\n",
    "Generator functions are functions that behave like iterators. \n",
    "\n",
    "* They save their state, so that they can know which is next\n",
    "* They use the `yield` keyword, instead of `return` (`yield` makes a function a generator)\n",
    "* generator functions return iterators"
   ]
  },
  {
   "cell_type": "code",
   "execution_count": null,
   "metadata": {
    "slideshow": {
     "slide_type": "slide"
    }
   },
   "outputs": [],
   "source": [
    "def repeat_gen(value, limit):\n",
    "    for i in range(limit):\n",
    "        yield value\n",
    "    \n",
    "repeat_gen_obj = repeat_gen(\"olá\", 5)\n",
    "print(repeat_gen_obj)\n",
    "#for item in repeat_gen_obj: \n",
    "#    print(item) \n",
    "    \n",
    "\n",
    "#for x in repeat_gen_obj:\n",
    "#    print(\"x =\", x)\n",
    "\n",
    "#repeat_gen_obj = repeat_gen(\"olá\", 5)\n",
    "#print(repeat_gen_obj)#next(gen_ob)\n",
    "#print(repeat_gen_obj)\n",
    "#print(hasattr(repeat_gen_obj, '__next__'))\n",
    "#print(hasattr(repeat_gen_obj, '__iter__'))  "
   ]
  },
  {
   "cell_type": "markdown",
   "metadata": {},
   "source": [
    "### Behind the scenes\n",
    "\n",
    "* executing generator function (with `yield`) creates generator object\n",
    "* generator object is an iterator\n",
    "* generator object saves state at each call of `yield`"
   ]
  },
  {
   "cell_type": "markdown",
   "metadata": {
    "slideshow": {
     "slide_type": "slide"
    }
   },
   "source": [
    "## Iteration in Python\n",
    "\n",
    "* is a **protocol** (since Python 2.2)\n",
    "* requires an **iterable** to iterate over\n",
    "* requires an **iterator** (often automatically created behind the scenes) to track what's **next**\n",
    "* **iterators can be used as iterables,** but don't \"renew\"\n",
    "* use **generator** functions to create iterators, rather than classes\n"
   ]
  },
  {
   "cell_type": "markdown",
   "metadata": {
    "slideshow": {
     "slide_type": "slide"
    }
   },
   "source": [
    "## Resources\n",
    "\n",
    "* [Python Tutorial - iterators](https://docs.python.org/2.7/tutorial/classes.html#iterators)\n",
    "* [Python Tutorial - generators](https://docs.python.org/2.7/tutorial/classes.html#generators)\n",
    "* [Python Tutorial - generator expressions](https://docs.python.org/2.7/tutorial/classes.html#generator-expressions)\n",
    "* [Iterator types documentation](https://docs.python.org/dev/library/stdtypes.html#iterator-types)\n",
    "* [Iterators, Functional Programming HOWTO](https://docs.python.org/dev/howto/functional.html#iterators)\n",
    "* [Iterations of Evolution: The Unauthorized Biography of the For-Loop](https://www.youtube.com/watch?v=2AXuhgid7E4) - Dave Beazley, PyCon Pakistan 2017"
   ]
  }
 ],
 "metadata": {
  "celltoolbar": "Slideshow",
  "kernelspec": {
   "display_name": "Python 3",
   "language": "python",
   "name": "python3"
  },
  "language_info": {
   "codemirror_mode": {
    "name": "ipython",
    "version": 3
   },
   "file_extension": ".py",
   "mimetype": "text/x-python",
   "name": "python",
   "nbconvert_exporter": "python",
   "pygments_lexer": "ipython3",
   "version": "3.8.3"
  },
  "livereveal": {
   "scroll": true,
   "start_slideshow_at": "selected",
   "theme": "white",
   "transition": "none"
  },
  "toc": {
   "base_numbering": 1,
   "nav_menu": {},
   "number_sections": false,
   "sideBar": true,
   "skip_h1_title": false,
   "title_cell": "Table of Contents",
   "title_sidebar": "Contents",
   "toc_cell": false,
   "toc_position": {},
   "toc_section_display": "block",
   "toc_window_display": false
  }
 },
 "nbformat": 4,
 "nbformat_minor": 2
}
